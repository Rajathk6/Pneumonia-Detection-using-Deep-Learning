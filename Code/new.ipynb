{
 "cells": [
  {
   "cell_type": "code",
   "execution_count": 3,
   "metadata": {},
   "outputs": [
    {
     "name": "stdout",
     "output_type": "stream",
     "text": [
      "5216\n",
      "(5216, 128, 128, 3)\n",
      "(5216,)\n",
      "(624, 128, 128, 3)\n",
      "(624,)\n"
     ]
    }
   ],
   "source": [
    "import os\n",
    "import cv2\n",
    "from PIL import Image\n",
    "import pandas as pd\n",
    "import numpy as np\n",
    "import matplotlib.pyplot as plt\n",
    "from tensorflow.keras.preprocessing.image import ImageDataGenerator\n",
    "from tensorflow.keras.models import Sequential\n",
    "from tensorflow.keras.layers import Conv2D, MaxPooling2D, Flatten, Dense, BatchNormalization, Dropout\n",
    "from tensorflow.keras.optimizers import Adam\n",
    "from tensorflow.keras.applications import VGG16, MobileNet\n",
    "from tensorflow.keras.callbacks import EarlyStopping\n",
    "from tensorflow.keras import regularizers\n",
    "from sklearn.metrics import roc_curve, auc\n",
    "from sklearn.metrics import accuracy_score, precision_score, recall_score, f1_score, confusion_matrix\n",
    "from sklearn.model_selection import train_test_split\n",
    "\n",
    "def load_data(path_data):\n",
    "    data = []\n",
    "    labels = []\n",
    "\n",
    "    for label in os.listdir(path_data):\n",
    "        path_label = os.path.join(path_data, label)\n",
    "        for img in os.listdir(path_label):\n",
    "            path_img = os.path.join(path_label, img)\n",
    "            image = Image.open(path_img)\n",
    "            image = image.resize((128, 128))\n",
    "            image = image.convert('RGB')\n",
    "            image = np.array(image)\n",
    "            data.append(image)\n",
    "            labels.append(1) if label == 'PNEUMONIA' else labels.append(0)\n",
    "\n",
    "    return data, labels\n",
    "\n",
    "# Paths\\\n",
    "path = \"D:\\\\Project\\\\mini_project(5th_Sem)\\\\DataSet\\\\chest_xray\\\\\"\n",
    "path_train = \"D:\\\\Project\\\\mini_project(5th_Sem)\\\\DataSet\\\\chest_xray\\\\train\"\n",
    "path_test = \"D:\\\\Project\\\\mini_project(5th_Sem)\\\\DataSet\\\\chest_xray\\\\test\"\n",
    "path_val = \"D:\\\\Project\\\\mini_project(5th_Sem)\\\\DataSet\\\\chest_xray\\\\val\"\n",
    "\n",
    "# Load data\n",
    "x_train, y_train = load_data(path_train)\n",
    "x_test, y_test = load_data(path_test)\n",
    "x_val, y_val = load_data(path_val)\n",
    "\n",
    "# Print data sizes\n",
    "print(len(x_train))\n",
    "\n",
    "X = np.array(x_train)\n",
    "Y = np.array(y_train)\n",
    "print(X.shape)\n",
    "print(Y.shape)\n",
    "\n",
    "x_test = np.array(x_test)\n",
    "y_test = np.array(y_test)\n",
    "print(x_test.shape)\n",
    "print(y_test.shape)\n",
    "\n",
    "X = X / 255"
   ]
  }
 ],
 "metadata": {
  "kernelspec": {
   "display_name": "Python 3",
   "language": "python",
   "name": "python3"
  },
  "language_info": {
   "codemirror_mode": {
    "name": "ipython",
    "version": 3
   },
   "file_extension": ".py",
   "mimetype": "text/x-python",
   "name": "python",
   "nbconvert_exporter": "python",
   "pygments_lexer": "ipython3",
   "version": "3.12.2"
  }
 },
 "nbformat": 4,
 "nbformat_minor": 2
}
